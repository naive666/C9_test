{
 "cells": [
  {
   "cell_type": "code",
   "execution_count": 1,
   "id": "2cedaf0d",
   "metadata": {
    "ExecuteTime": {
     "end_time": "2022-01-04T15:34:36.157864Z",
     "start_time": "2022-01-04T15:34:33.458672Z"
    }
   },
   "outputs": [],
   "source": [
    "import pandas as pd\n",
    "from datetime import datetime, timedelta\n",
    "\n",
    "# Adds 8 hours to timestamp (for GMT-8 tz) to make GMT time. Replace with your offset from GMT.\n",
    "TZ_ADJ = 8\n",
    "\n",
    "data_path = './data.csv'"
   ]
  },
  {
   "cell_type": "code",
   "execution_count": 2,
   "id": "42f4ac0d",
   "metadata": {
    "ExecuteTime": {
     "end_time": "2022-01-04T15:34:51.746625Z",
     "start_time": "2022-01-04T15:34:51.731666Z"
    }
   },
   "outputs": [],
   "source": [
    "def rsi(df, periods=14):\n",
    "    \"\"\"\n",
    "    Returns a pd.Series with the relative strength index.\n",
    "    From https://www.roelpeters.be/many-ways-to-calculate-the-rsi-in-python-pandas/\n",
    "    \"\"\"\n",
    "    close_delta = df['close'].diff()\n",
    "\n",
    "    # Make two series: one for lower closes and one for higher closes\n",
    "    up = close_delta.clip(lower=0)\n",
    "    down = -1 * close_delta.clip(upper=0)\n",
    "    \n",
    "    # Use exponential moving average\n",
    "    ma_up = up.ewm(com=periods-1, adjust=True, min_periods=periods).mean()\n",
    "    ma_down = down.ewm(com=periods-1, adjust=True, min_periods=periods).mean()\n",
    "        \n",
    "    rsi = ma_up / ma_down\n",
    "    rsi = 100 - (100/(1 + rsi))\n",
    "    return rsi"
   ]
  },
  {
   "cell_type": "code",
   "execution_count": 30,
   "id": "2daec240",
   "metadata": {
    "ExecuteTime": {
     "end_time": "2022-01-04T16:07:55.256909Z",
     "start_time": "2022-01-04T16:07:55.089783Z"
    }
   },
   "outputs": [],
   "source": [
    "data = pd.read_csv(data_path)\n",
    "\n",
    "# adjusting from GMT-8 local tz\n",
    "data['time'] = data['time'].apply(lambda x: datetime.fromtimestamp(x) + timedelta(seconds=60*60*TZ_ADJ))\n",
    "\n",
    "data['rsi'] = rsi(data)"
   ]
  },
  {
   "cell_type": "code",
   "execution_count": 31,
   "id": "6f6927b5",
   "metadata": {
    "ExecuteTime": {
     "end_time": "2022-01-04T16:07:55.879778Z",
     "start_time": "2022-01-04T16:07:55.848861Z"
    }
   },
   "outputs": [
    {
     "data": {
      "text/html": [
       "<div>\n",
       "<style scoped>\n",
       "    .dataframe tbody tr th:only-of-type {\n",
       "        vertical-align: middle;\n",
       "    }\n",
       "\n",
       "    .dataframe tbody tr th {\n",
       "        vertical-align: top;\n",
       "    }\n",
       "\n",
       "    .dataframe thead th {\n",
       "        text-align: right;\n",
       "    }\n",
       "</style>\n",
       "<table border=\"1\" class=\"dataframe\">\n",
       "  <thead>\n",
       "    <tr style=\"text-align: right;\">\n",
       "      <th></th>\n",
       "      <th>time</th>\n",
       "      <th>open</th>\n",
       "      <th>high</th>\n",
       "      <th>low</th>\n",
       "      <th>close</th>\n",
       "      <th>rsi</th>\n",
       "    </tr>\n",
       "  </thead>\n",
       "  <tbody>\n",
       "    <tr>\n",
       "      <th>0</th>\n",
       "      <td>2020-07-21 20:00:00</td>\n",
       "      <td>1.26675</td>\n",
       "      <td>1.26675</td>\n",
       "      <td>1.26498</td>\n",
       "      <td>1.26551</td>\n",
       "      <td>NaN</td>\n",
       "    </tr>\n",
       "    <tr>\n",
       "      <th>1</th>\n",
       "      <td>2020-07-21 21:00:00</td>\n",
       "      <td>1.26551</td>\n",
       "      <td>1.26795</td>\n",
       "      <td>1.26546</td>\n",
       "      <td>1.26791</td>\n",
       "      <td>NaN</td>\n",
       "    </tr>\n",
       "    <tr>\n",
       "      <th>2</th>\n",
       "      <td>2020-07-21 22:00:00</td>\n",
       "      <td>1.26791</td>\n",
       "      <td>1.27009</td>\n",
       "      <td>1.26787</td>\n",
       "      <td>1.26926</td>\n",
       "      <td>NaN</td>\n",
       "    </tr>\n",
       "    <tr>\n",
       "      <th>3</th>\n",
       "      <td>2020-07-21 23:00:00</td>\n",
       "      <td>1.26926</td>\n",
       "      <td>1.27162</td>\n",
       "      <td>1.26723</td>\n",
       "      <td>1.26741</td>\n",
       "      <td>NaN</td>\n",
       "    </tr>\n",
       "    <tr>\n",
       "      <th>4</th>\n",
       "      <td>2020-07-22 00:00:00</td>\n",
       "      <td>1.26741</td>\n",
       "      <td>1.26962</td>\n",
       "      <td>1.26712</td>\n",
       "      <td>1.26953</td>\n",
       "      <td>NaN</td>\n",
       "    </tr>\n",
       "    <tr>\n",
       "      <th>...</th>\n",
       "      <td>...</td>\n",
       "      <td>...</td>\n",
       "      <td>...</td>\n",
       "      <td>...</td>\n",
       "      <td>...</td>\n",
       "      <td>...</td>\n",
       "    </tr>\n",
       "    <tr>\n",
       "      <th>9029</th>\n",
       "      <td>2022-01-01 08:00:00</td>\n",
       "      <td>1.35449</td>\n",
       "      <td>1.35464</td>\n",
       "      <td>1.35303</td>\n",
       "      <td>1.35431</td>\n",
       "      <td>65.016548</td>\n",
       "    </tr>\n",
       "    <tr>\n",
       "      <th>9030</th>\n",
       "      <td>2022-01-01 09:00:00</td>\n",
       "      <td>1.35431</td>\n",
       "      <td>1.35462</td>\n",
       "      <td>1.35307</td>\n",
       "      <td>1.35345</td>\n",
       "      <td>61.113064</td>\n",
       "    </tr>\n",
       "    <tr>\n",
       "      <th>9031</th>\n",
       "      <td>2022-01-01 10:00:00</td>\n",
       "      <td>1.35345</td>\n",
       "      <td>1.35435</td>\n",
       "      <td>1.35293</td>\n",
       "      <td>1.35414</td>\n",
       "      <td>63.030863</td>\n",
       "    </tr>\n",
       "    <tr>\n",
       "      <th>9032</th>\n",
       "      <td>2022-01-01 11:00:00</td>\n",
       "      <td>1.35414</td>\n",
       "      <td>1.35416</td>\n",
       "      <td>1.35276</td>\n",
       "      <td>1.35328</td>\n",
       "      <td>59.117506</td>\n",
       "    </tr>\n",
       "    <tr>\n",
       "      <th>9033</th>\n",
       "      <td>2022-01-01 12:00:00</td>\n",
       "      <td>1.35328</td>\n",
       "      <td>1.35335</td>\n",
       "      <td>1.35323</td>\n",
       "      <td>1.35323</td>\n",
       "      <td>58.888586</td>\n",
       "    </tr>\n",
       "  </tbody>\n",
       "</table>\n",
       "<p>9034 rows × 6 columns</p>\n",
       "</div>"
      ],
      "text/plain": [
       "                    time     open     high      low    close        rsi\n",
       "0    2020-07-21 20:00:00  1.26675  1.26675  1.26498  1.26551        NaN\n",
       "1    2020-07-21 21:00:00  1.26551  1.26795  1.26546  1.26791        NaN\n",
       "2    2020-07-21 22:00:00  1.26791  1.27009  1.26787  1.26926        NaN\n",
       "3    2020-07-21 23:00:00  1.26926  1.27162  1.26723  1.26741        NaN\n",
       "4    2020-07-22 00:00:00  1.26741  1.26962  1.26712  1.26953        NaN\n",
       "...                  ...      ...      ...      ...      ...        ...\n",
       "9029 2022-01-01 08:00:00  1.35449  1.35464  1.35303  1.35431  65.016548\n",
       "9030 2022-01-01 09:00:00  1.35431  1.35462  1.35307  1.35345  61.113064\n",
       "9031 2022-01-01 10:00:00  1.35345  1.35435  1.35293  1.35414  63.030863\n",
       "9032 2022-01-01 11:00:00  1.35414  1.35416  1.35276  1.35328  59.117506\n",
       "9033 2022-01-01 12:00:00  1.35328  1.35335  1.35323  1.35323  58.888586\n",
       "\n",
       "[9034 rows x 6 columns]"
      ]
     },
     "execution_count": 31,
     "metadata": {},
     "output_type": "execute_result"
    }
   ],
   "source": [
    "data"
   ]
  },
  {
   "cell_type": "code",
   "execution_count": 38,
   "id": "f905f410",
   "metadata": {},
   "outputs": [],
   "source": [
    "# Find where RSI goes below 30 or above 70, and then retracts on the next bar. \n",
    "# Using the close of that bar as the entry, what is the MAE and MFE of the next 4 bars? "
   ]
  },
  {
   "cell_type": "code",
   "execution_count": 32,
   "id": "4fb36ea6",
   "metadata": {
    "ExecuteTime": {
     "end_time": "2022-01-04T16:07:58.630501Z",
     "start_time": "2022-01-04T16:07:58.604084Z"
    }
   },
   "outputs": [],
   "source": [
    "# If RSI is below 30, signal = 1; if RSI is above 70, signal = -1\n",
    "data['long_signal'] = data['rsi'].apply(lambda x : 1 if x < 30 else 0)\n",
    "data['short_signal'] = data['rsi'].apply(lambda x : -1 if x > 70 else 0)"
   ]
  },
  {
   "cell_type": "code",
   "execution_count": 33,
   "id": "a43a4a6e",
   "metadata": {
    "ExecuteTime": {
     "end_time": "2022-01-04T16:08:07.942498Z",
     "start_time": "2022-01-04T16:08:07.916568Z"
    }
   },
   "outputs": [],
   "source": [
    "data['lowest_low'] = data['low'].rolling(4).min()\n",
    "data['highest_high'] = data['high'].rolling(4).max()"
   ]
  },
  {
   "cell_type": "code",
   "execution_count": 34,
   "id": "26a98c95",
   "metadata": {
    "ExecuteTime": {
     "end_time": "2022-01-04T16:10:13.670586Z",
     "start_time": "2022-01-04T16:10:13.636658Z"
    }
   },
   "outputs": [],
   "source": [
    "# calculate MAE\n",
    "data['long_mae'] = ((data['close'].shift(4) - data['lowest_low']) * data['long_signal'].shift(5)).clip(lower=0)\n",
    "data['short_mae'] = ((data['close'].shift(4) - data['highest_high']) * data['short_signal'].shift(5)).clip(lower=0)"
   ]
  },
  {
   "cell_type": "code",
   "execution_count": 37,
   "id": "94f3af6d",
   "metadata": {
    "ExecuteTime": {
     "end_time": "2022-01-04T16:15:30.714402Z",
     "start_time": "2022-01-04T16:15:30.695453Z"
    }
   },
   "outputs": [],
   "source": [
    "# calculate mfe\n",
    "data['long_mfe'] = ((data['highest_high'] - data['close'].shift(4)) * data['long_signal'].shift(5)).clip(lower=0) \n",
    "data['short_mfe'] = ((data['lowest_low'] - data['close'].shift(4)) * data['short_signal'].shift(5)).clip(lower=0) "
   ]
  }
 ],
 "metadata": {
  "kernelspec": {
   "display_name": "Python 3",
   "language": "python",
   "name": "python3"
  },
  "language_info": {
   "codemirror_mode": {
    "name": "ipython",
    "version": 3
   },
   "file_extension": ".py",
   "mimetype": "text/x-python",
   "name": "python",
   "nbconvert_exporter": "python",
   "pygments_lexer": "ipython3",
   "version": "3.8.8"
  },
  "latex_envs": {
   "LaTeX_envs_menu_present": true,
   "autoclose": false,
   "autocomplete": false,
   "bibliofile": "biblio.bib",
   "cite_by": "apalike",
   "current_citInitial": 1,
   "eqLabelWithNumbers": true,
   "eqNumInitial": 1,
   "hotkeys": {
    "equation": "Ctrl-E",
    "itemize": "Ctrl-I"
   },
   "labels_anchors": false,
   "latex_user_defs": false,
   "report_style_numbering": false,
   "user_envs_cfg": false
  },
  "toc": {
   "base_numbering": 1,
   "nav_menu": {},
   "number_sections": true,
   "sideBar": true,
   "skip_h1_title": false,
   "title_cell": "Table of Contents",
   "title_sidebar": "Contents",
   "toc_cell": false,
   "toc_position": {},
   "toc_section_display": true,
   "toc_window_display": false
  },
  "varInspector": {
   "cols": {
    "lenName": 16,
    "lenType": 16,
    "lenVar": 40
   },
   "kernels_config": {
    "python": {
     "delete_cmd_postfix": "",
     "delete_cmd_prefix": "del ",
     "library": "var_list.py",
     "varRefreshCmd": "print(var_dic_list())"
    },
    "r": {
     "delete_cmd_postfix": ") ",
     "delete_cmd_prefix": "rm(",
     "library": "var_list.r",
     "varRefreshCmd": "cat(var_dic_list()) "
    }
   },
   "types_to_exclude": [
    "module",
    "function",
    "builtin_function_or_method",
    "instance",
    "_Feature"
   ],
   "window_display": false
  }
 },
 "nbformat": 4,
 "nbformat_minor": 5
}
